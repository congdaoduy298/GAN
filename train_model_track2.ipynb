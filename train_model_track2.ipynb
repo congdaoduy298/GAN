{
 "cells": [
  {
   "cell_type": "code",
   "execution_count": 1,
   "metadata": {},
   "outputs": [
    {
     "data": {
      "text/plain": [
       "(array([ 394.,  189.,  219.,  259.,  191., 1224.,  215.,  152.,  167.,\n",
       "         456.]),\n",
       " array([-1. , -0.8, -0.6, -0.4, -0.2,  0. ,  0.2,  0.4,  0.6,  0.8,  1. ]),\n",
       " <a list of 10 Patch objects>)"
      ]
     },
     "execution_count": 1,
     "metadata": {},
     "output_type": "execute_result"
    },
    {
     "data": {
      "image/png": "[encoded data removed]",
      "text/plain": [
       "<Figure size 432x288 with 1 Axes>"
      ]
     },
     "metadata": {
      "needs_background": "light"
     },
     "output_type": "display_data"
    }
   ],
   "source": [
    "import pandas as pd \n",
    "import matplotlib.pyplot as plt\n",
    "import os \n",
    "import numpy as np \n",
    "from sklearn.model_selection import train_test_split\n",
    "%matplotlib inline\n",
    "\n",
    "IMG_WIDTH, IMG_HEIGHT, IMG_CHANNELS = 200, 66, 3\n",
    "data_dir = 'dataset_track2'\n",
    "data_df = pd.read_csv(os.path.join(os.getcwd(), data_dir, 'driving_log.csv'), \n",
    "                    names=['center', 'left', 'right', 'steering', 'throttle', 'reverse', 'speed'])\n",
    "\n",
    "X = data_df[['center', 'left', 'right']].values\n",
    "y = data_df['steering'].values\n",
    "pos_zero = np.array(np.where(y==0)).reshape(-1, 1)\n",
    "\n",
    "pos_none_zero = np.array(np.where(y!=0)).reshape(-1, 1)\n",
    "np.random.shuffle(pos_zero)\n",
    "pos_zero = pos_zero[:1000]\n",
    "# join two numpy arrays\n",
    "pos_combined = np.vstack((pos_zero, pos_none_zero))\n",
    "pos_combined = list(pos_combined)\n",
    "X = X[pos_combined].reshape(-1, 3)\n",
    "y = y[pos_combined].reshape(-1)\n",
    "\n",
    "plt.hist(y)"
   ]
  },
  {
   "cell_type": "code",
   "execution_count": 2,
   "metadata": {},
   "outputs": [],
   "source": [
    "X_train, X_valid, y_train, y_valid = train_test_split(X, y, test_size=0.2, random_state=0)"
   ]
  },
  {
   "cell_type": "code",
   "execution_count": 3,
   "metadata": {},
   "outputs": [
    {
     "name": "stderr",
     "output_type": "stream",
     "text": [
      "Using TensorFlow backend.\n"
     ]
    },
    {
     "name": "stdout",
     "output_type": "stream",
     "text": [
      "WARNING:tensorflow:From /home/congdao/miniconda3/envs/congdao/lib/python3.6/site-packages/tensorflow_core/python/ops/resource_variable_ops.py:1630: calling BaseResourceVariable.__init__ (from tensorflow.python.ops.resource_variable_ops) with constraint is deprecated and will be removed in a future version.\n",
      "Instructions for updating:\n",
      "If using Keras pass *_constraint arguments to layers.\n",
      "WARNING:tensorflow:From /home/congdao/miniconda3/envs/congdao/lib/python3.6/site-packages/keras/backend/tensorflow_backend.py:422: The name tf.global_variables is deprecated. Please use tf.compat.v1.global_variables instead.\n",
      "\n"
     ]
    }
   ],
   "source": [
    "from keras.models import load_model \n",
    "\n",
    "model = load_model(\"savemodel.h5\")\n"
   ]
  },
  {
   "cell_type": "code",
   "execution_count": 4,
   "metadata": {},
   "outputs": [
    {
     "name": "stdout",
     "output_type": "stream",
     "text": [
      "(2772,)\n",
      "Epoch 1/10\n",
      "1000/1000 [==============================] - 401s 401ms/step - loss: 0.2116 - val_loss: 0.1393\n",
      "Epoch 2/10\n",
      "1000/1000 [==============================] - 296s 296ms/step - loss: 0.1854 - val_loss: 0.1691\n",
      "Epoch 3/10\n",
      "1000/1000 [==============================] - 233s 233ms/step - loss: 0.1821 - val_loss: 0.2006\n",
      "Epoch 4/10\n",
      "1000/1000 [==============================] - 510s 510ms/step - loss: 0.1755 - val_loss: 0.1507\n",
      "Epoch 5/10\n",
      "1000/1000 [==============================] - 485s 485ms/step - loss: 0.1706 - val_loss: 0.1180\n",
      "Epoch 6/10\n",
      "1000/1000 [==============================] - 287s 287ms/step - loss: 0.1693 - val_loss: 0.1215\n",
      "Epoch 7/10\n",
      "1000/1000 [==============================] - 242s 242ms/step - loss: 0.1661 - val_loss: 0.2022\n",
      "Epoch 8/10\n",
      "1000/1000 [==============================] - 233s 233ms/step - loss: 0.1618 - val_loss: 0.1696\n",
      "Epoch 9/10\n",
      "1000/1000 [==============================] - 230s 230ms/step - loss: 0.1610 - val_loss: 0.1817\n",
      "Epoch 10/10\n",
      "1000/1000 [==============================] - 229s 229ms/step - loss: 0.1569 - val_loss: 0.2190\n"
     ]
    },
    {
     "data": {
      "text/plain": [
       "<keras.callbacks.callbacks.History at 0x7fb184023a58>"
      ]
     },
     "execution_count": 4,
     "metadata": {},
     "output_type": "execute_result"
    }
   ],
   "source": [
    "from keras.callbacks import ModelCheckpoint \n",
    "from keras.optimizers import Adam\n",
    "from utils import batch_generator, INPUT_SHAPE\n",
    "\n",
    "EPOCHS = 10\n",
    "steps_per_epoch = 1000\n",
    "batch_size = 32\n",
    "# first - address we want model saved\n",
    "\n",
    "checkpoint = ModelCheckpoint(\"models/savemodel.h5\",\n",
    "                             monitor='val_loss',\n",
    "                             verbose=0,\n",
    "                             save_best_only=True,\n",
    "                             mode='auto'\n",
    "                            )\n",
    "model.compile(loss=\"mean_squared_error\", optimizer=Adam(lr=1e-4))\n",
    "print(y_train.shape)\n",
    "model.fit_generator(batch_generator(data_dir, X_train, y_train, batch_size, True),\n",
    "                    steps_per_epoch=steps_per_epoch,\n",
    "                    epochs=EPOCHS,\n",
    "                    validation_data=batch_generator(data_dir, X_valid, y_valid, batch_size, False),\n",
    "                    callbacks=[checkpoint],\n",
    "                    validation_steps=len(X_valid), \n",
    "                    max_queue_size=1, \n",
    "                    verbose=1)\n",
    "\n",
    "\n"
   ]
  },
  {
   "cell_type": "code",
   "execution_count": null,
   "metadata": {},
   "outputs": [],
   "source": []
  }
 ],
 "metadata": {
  "kernelspec": {
   "display_name": "Python 3",
   "language": "python",
   "name": "python3"
  },
  "language_info": {
   "codemirror_mode": {
    "name": "ipython",
    "version": 3
   },
   "file_extension": ".py",
   "mimetype": "text/x-python",
   "name": "python",
   "nbconvert_exporter": "python",
   "pygments_lexer": "ipython3",
   "version": "3.6.9"
  }
 },
 "nbformat": 4,
 "nbformat_minor": 2
}
